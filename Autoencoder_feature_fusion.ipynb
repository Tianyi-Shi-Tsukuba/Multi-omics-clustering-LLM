{
  "nbformat": 4,
  "nbformat_minor": 0,
  "metadata": {
    "colab": {
      "provenance": []
    },
    "kernelspec": {
      "name": "python3",
      "display_name": "Python 3"
    },
    "language_info": {
      "name": "python"
    }
  },
  "cells": [
    {
      "cell_type": "code",
      "execution_count": null,
      "metadata": {
        "id": "IGd3p_d1XhVe"
      },
      "outputs": [],
      "source": [
        "import pandas as pd\n",
        "import numpy as np\n",
        "from tensorflow.keras.layers import Input, Dense\n",
        "from tensorflow.keras.models import Model\n",
        "from tensorflow.keras.callbacks import EarlyStopping\n",
        "from sklearn.preprocessing import StandardScaler"
      ]
    },
    {
      "cell_type": "code",
      "source": [
        "gene = pd.read_csv(\"/content/ESCA_RNAseq_ori.csv\", index_col=0)\n",
        "methy = pd.read_csv(\"/content/ESCA_protein_ori.csv\", index_col=0)\n",
        "mirna = pd.read_csv(\"/content/ESCA_miRNAseq_ori.csv\", index_col=0)\n",
        "embed = pd.read_csv(\"/content/ESCA_embeddings.csv\", index_col=0).iloc[:, 1:]\n",
        "\n",
        "print(gene.shape)\n",
        "print(methy.shape)\n",
        "print(mirna.shape)\n",
        "print(embed.shape)\n",
        "\n",
        "merged1 = np.hstack((gene, embed))\n",
        "merged2 = np.hstack((methy, embed))\n",
        "merged3 = np.hstack((mirna, embed))\n",
        "\n",
        "scaler1 = StandardScaler()\n",
        "scaler2 = StandardScaler()\n",
        "scaler3 = StandardScaler()\n",
        "\n",
        "merged1 = scaler1.fit_transform(merged1)\n",
        "merged2 = scaler2.fit_transform(merged2)\n",
        "merged3 = scaler3.fit_transform(merged3)\n",
        "\n",
        "print(merged1.shape, merged2.shape, merged3.shape)"
      ],
      "metadata": {
        "id": "yB0HZskXXtSG"
      },
      "execution_count": null,
      "outputs": []
    },
    {
      "cell_type": "code",
      "source": [
        "def build_autoencoder(input_dim, encoding_dim):\n",
        "    input_layer = Input(shape=(input_dim,))\n",
        "    encoded = Dense(encoding_dim, activation='relu')(input_layer)\n",
        "    decoded = Dense(input_dim, activation='sigmoid')(encoded)\n",
        "    autoencoder = Model(inputs=input_layer, outputs=decoded)\n",
        "    encoder = Model(inputs=input_layer, outputs=encoded)\n",
        "    autoencoder.compile(optimizer='adam', loss='mse')\n",
        "    return autoencoder, encoder\n",
        "\n",
        "encoding_dim = 128\n",
        "epochs = 200\n",
        "batch_size = 32\n",
        "\n",
        "encoded_features = []\n",
        "for data in [merged1, merged2, merged3]:\n",
        "    input_dim = data.shape[1]\n",
        "    autoencoder, encoder = build_autoencoder(input_dim, encoding_dim)\n",
        "    autoencoder.fit(data, data, epochs=epochs, batch_size=batch_size, shuffle=True, verbose=1)\n",
        "    encoded_features.append(encoder.predict(data))\n",
        "\n",
        "encoded_features1, encoded_features2, encoded_features3 = encoded_features\n",
        "print(encoded_features1.shape, encoded_features2.shape, encoded_features3.shape)"
      ],
      "metadata": {
        "id": "v3OrkCV3Xxl8"
      },
      "execution_count": null,
      "outputs": []
    },
    {
      "cell_type": "code",
      "source": [
        "row_names = gene.index\n",
        "num_columns = encoded_features1.shape[1]\n",
        "col_names = list(range(1, num_columns + 1))\n",
        "fused_gene_df = pd.DataFrame(encoded_features1, index=row_names, columns=col_names)\n",
        "fused_gene_df.to_csv(\"/ESCA_RNAseq_fused.csv\")\n",
        "\n",
        "row_names = methy.index\n",
        "num_columns = encoded_features2.shape[1]\n",
        "col_names = list(range(1, num_columns + 1))\n",
        "fused_methy_df = pd.DataFrame(encoded_features2, index=row_names, columns=col_names)\n",
        "fused_methy_df.to_csv(\"/ESCA_protein_fused.csv\")\n",
        "\n",
        "row_names = mirna.index\n",
        "num_columns = encoded_features3.shape[1]\n",
        "col_names = list(range(1, num_columns + 1))\n",
        "fused_mirna_df = pd.DataFrame(encoded_features3, index=row_names, columns=col_names)\n",
        "fused_mirna_df.to_csv(\"/ESCA_miRNAseq_fused.csv\")"
      ],
      "metadata": {
        "id": "OrkVSZHlX47I"
      },
      "execution_count": null,
      "outputs": []
    }
  ]
}